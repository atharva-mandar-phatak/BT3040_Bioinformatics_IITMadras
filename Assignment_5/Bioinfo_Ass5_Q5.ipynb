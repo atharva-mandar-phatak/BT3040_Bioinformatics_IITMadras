{
  "nbformat": 4,
  "nbformat_minor": 0,
  "metadata": {
    "colab": {
      "provenance": []
    },
    "kernelspec": {
      "name": "python3",
      "display_name": "Python 3"
    },
    "language_info": {
      "name": "python"
    }
  },
  "cells": [
    {
      "cell_type": "code",
      "execution_count": null,
      "metadata": {
        "colab": {
          "base_uri": "https://localhost:8080/"
        },
        "id": "tEYymXSs77wp",
        "outputId": "39265432-7222-49fb-9b03-1b4e2e290075"
      },
      "outputs": [
        {
          "output_type": "stream",
          "name": "stdout",
          "text": [
            "shree\n"
          ]
        }
      ],
      "source": [
        "print(\"shree\")"
      ]
    },
    {
      "cell_type": "code",
      "source": [
        "def seq_spliter(seq,n):\n",
        "    i=0\n",
        "    seq_list=[]\n",
        "    while(i<=len(seq)-n):\n",
        "        seq_list.append(seq[i:i+n])\n",
        "        i=i+1\n",
        "\n",
        "    return seq_list\n",
        "\n",
        "def frequency_finder(inp_set,inp_list_1,inp_list_2):\n",
        "    count=1\n",
        "    for i in inp_set:\n",
        "        count+=1\n",
        "        if (inp_list_1.count(i) != 0 and inp_list_2.count(i) !=0):\n",
        "            print(f\"The frequency of {i} in Human Hb Sequence is: {inp_list_1.count(i)} and in Chicken Hb Sequence is: {inp_list_2.count(i)}   \")\n",
        ""
      ],
      "metadata": {
        "id": "o9FitwkmGqkD"
      },
      "execution_count": 6,
      "outputs": []
    },
    {
      "cell_type": "code",
      "source": [
        "human_hb=\"MVHWTAEEKQLITGLWGKVNVAECGAEALARLLIVYPWTQRFFASFGNLSSPTAILGNPMVRAHGKKVLTSFGDAVKNLDNIKNTFSQLSELHCDKLHVDPENFRLLGDILIIVLAAHFSKDFTPECQAAWQKLVRVVAHALARKYH\"\n",
        "chicken_hb=\"MVHLTPEEKSAVTALWGKVNVDEVGGEALGRLLVVYPWTQRFFESFGDLSTPDAVMGNPKVKAHGKKVLGAFSDGLAHLDNLKGTFATLSELHCDKLHVDPENFRLLGNVLVCVLAHHFGKEFTPPVQAAYQKVVAGVANALAHKYH\"\n",
        "human_list=seq_spliter(human_hb,5)\n",
        "chicken_list=seq_spliter(chicken_hb,5)\n",
        "combined_list=human_list+chicken_list\n",
        "combined_set=set(sorted(combined_list))\n",
        "frequency_finder(combined_set,human_list,chicken_list)"
      ],
      "metadata": {
        "colab": {
          "base_uri": "https://localhost:8080/"
        },
        "id": "ThWAHO5vHOmR",
        "outputId": "8895c885-2d5c-4165-a28d-a1e7dbce74ee"
      },
      "execution_count": 7,
      "outputs": [
        {
          "output_type": "stream",
          "name": "stdout",
          "text": [
            "The frequency of WTQRF in Human Hb Sequence is: 1 and in Chicken Hb Sequence is: 1   \n",
            "The frequency of HVDPE in Human Hb Sequence is: 1 and in Chicken Hb Sequence is: 1   \n",
            "The frequency of PWTQR in Human Hb Sequence is: 1 and in Chicken Hb Sequence is: 1   \n",
            "The frequency of FRLLG in Human Hb Sequence is: 1 and in Chicken Hb Sequence is: 1   \n",
            "The frequency of SELHC in Human Hb Sequence is: 1 and in Chicken Hb Sequence is: 1   \n",
            "The frequency of TQRFF in Human Hb Sequence is: 1 and in Chicken Hb Sequence is: 1   \n",
            "The frequency of LSELH in Human Hb Sequence is: 1 and in Chicken Hb Sequence is: 1   \n",
            "The frequency of GKKVL in Human Hb Sequence is: 1 and in Chicken Hb Sequence is: 1   \n",
            "The frequency of PENFR in Human Hb Sequence is: 1 and in Chicken Hb Sequence is: 1   \n",
            "The frequency of LHVDP in Human Hb Sequence is: 1 and in Chicken Hb Sequence is: 1   \n",
            "The frequency of LWGKV in Human Hb Sequence is: 1 and in Chicken Hb Sequence is: 1   \n",
            "The frequency of AHGKK in Human Hb Sequence is: 1 and in Chicken Hb Sequence is: 1   \n",
            "The frequency of YPWTQ in Human Hb Sequence is: 1 and in Chicken Hb Sequence is: 1   \n",
            "The frequency of WGKVN in Human Hb Sequence is: 1 and in Chicken Hb Sequence is: 1   \n",
            "The frequency of VYPWT in Human Hb Sequence is: 1 and in Chicken Hb Sequence is: 1   \n",
            "The frequency of KLHVD in Human Hb Sequence is: 1 and in Chicken Hb Sequence is: 1   \n",
            "The frequency of NFRLL in Human Hb Sequence is: 1 and in Chicken Hb Sequence is: 1   \n",
            "The frequency of VDPEN in Human Hb Sequence is: 1 and in Chicken Hb Sequence is: 1   \n",
            "The frequency of CDKLH in Human Hb Sequence is: 1 and in Chicken Hb Sequence is: 1   \n",
            "The frequency of HCDKL in Human Hb Sequence is: 1 and in Chicken Hb Sequence is: 1   \n",
            "The frequency of ELHCD in Human Hb Sequence is: 1 and in Chicken Hb Sequence is: 1   \n",
            "The frequency of DPENF in Human Hb Sequence is: 1 and in Chicken Hb Sequence is: 1   \n",
            "The frequency of HGKKV in Human Hb Sequence is: 1 and in Chicken Hb Sequence is: 1   \n",
            "The frequency of ENFRL in Human Hb Sequence is: 1 and in Chicken Hb Sequence is: 1   \n",
            "The frequency of GKVNV in Human Hb Sequence is: 1 and in Chicken Hb Sequence is: 1   \n",
            "The frequency of LHCDK in Human Hb Sequence is: 1 and in Chicken Hb Sequence is: 1   \n",
            "The frequency of DKLHV in Human Hb Sequence is: 1 and in Chicken Hb Sequence is: 1   \n"
          ]
        }
      ]
    },
    {
      "cell_type": "code",
      "source": [
        "from Bio import pairwise2\n",
        "from Bio.Seq import Seq\n",
        "\n",
        "def compute_alignment_metrics(human_sequence, chicken_sequence):\n",
        "    # Perform pairwise sequence alignment\n",
        "    alignments = pairwise2.align.globalxx(Seq(human_sequence), Seq(chicken_sequence), one_alignment_only=True, score_only=True)\n",
        "    print(alignments)\n",
        "    # Calculate sequence identity, similarity, query coverage, and gap percentage\n",
        "    alignment_length = len(alignments[0])\n",
        "    sequence_identity = alignments[0] / alignment_length * 100\n",
        "    sequence_similarity = (alignment_length - alignments[0]) / alignment_length * 100\n",
        "\n",
        "    human_coverage = alignments[0] / len(human_sequence) * 100\n",
        "    chicken_coverage = alignments[0] / len(chicken_sequence) * 100\n",
        "\n",
        "    gap_percentage = (alignment_length - len(human_sequence) - len(chicken_sequence) + alignments[0]) / alignment_length * 100\n",
        "\n",
        "    return sequence_identity, sequence_similarity, human_coverage, chicken_coverage, gap_percentage\n",
        "\n",
        "# Example sequences (replace these with the actual sequences)\n",
        "human_hemoglobin_sequence = human_hb\n",
        "chicken_hemoglobin_sequence = chicken_hb\n",
        "\n",
        "sequence_identity, sequence_similarity, human_coverage, chicken_coverage, gap_percentage = compute_alignment_metrics(human_hemoglobin_sequence, chicken_hemoglobin_sequence)\n",
        "\n",
        "# Print the results\n",
        "print(\"Alignment Metrics:\")\n",
        "print(f\"Sequence Identity: {sequence_identity:.2f}%\")\n",
        "print(f\"Sequence Similarity: {sequence_similarity:.2f}%\")\n",
        "print(f\"Query Coverage (Human): {human_coverage:.2f}%\")\n",
        "print(f\"Query Coverage (Chicken): {chicken_coverage:.2f}%\")\n",
        "print(f\"Gap Percentage: {gap_percentage:.2f}%\")\n"
      ],
      "metadata": {
        "colab": {
          "base_uri": "https://localhost:8080/",
          "height": 349
        },
        "id": "AklSuj_DSVZH",
        "outputId": "d9e4d548-c2d1-4d00-9aca-d1195831fdbd"
      },
      "execution_count": 11,
      "outputs": [
        {
          "output_type": "stream",
          "name": "stdout",
          "text": [
            "104.0\n"
          ]
        },
        {
          "output_type": "error",
          "ename": "TypeError",
          "evalue": "'float' object is not subscriptable",
          "traceback": [
            "\u001b[0;31m---------------------------------------------------------------------------\u001b[0m",
            "\u001b[0;31mTypeError\u001b[0m                                 Traceback (most recent call last)",
            "\u001b[0;32m<ipython-input-11-1b0e79fb95b2>\u001b[0m in \u001b[0;36m<cell line: 24>\u001b[0;34m()\u001b[0m\n\u001b[1;32m     22\u001b[0m \u001b[0mchicken_hemoglobin_sequence\u001b[0m \u001b[0;34m=\u001b[0m \u001b[0mchicken_hb\u001b[0m\u001b[0;34m\u001b[0m\u001b[0;34m\u001b[0m\u001b[0m\n\u001b[1;32m     23\u001b[0m \u001b[0;34m\u001b[0m\u001b[0m\n\u001b[0;32m---> 24\u001b[0;31m \u001b[0msequence_identity\u001b[0m\u001b[0;34m,\u001b[0m \u001b[0msequence_similarity\u001b[0m\u001b[0;34m,\u001b[0m \u001b[0mhuman_coverage\u001b[0m\u001b[0;34m,\u001b[0m \u001b[0mchicken_coverage\u001b[0m\u001b[0;34m,\u001b[0m \u001b[0mgap_percentage\u001b[0m \u001b[0;34m=\u001b[0m \u001b[0mcompute_alignment_metrics\u001b[0m\u001b[0;34m(\u001b[0m\u001b[0mhuman_hemoglobin_sequence\u001b[0m\u001b[0;34m,\u001b[0m \u001b[0mchicken_hemoglobin_sequence\u001b[0m\u001b[0;34m)\u001b[0m\u001b[0;34m\u001b[0m\u001b[0;34m\u001b[0m\u001b[0m\n\u001b[0m\u001b[1;32m     25\u001b[0m \u001b[0;34m\u001b[0m\u001b[0m\n\u001b[1;32m     26\u001b[0m \u001b[0;31m# Print the results\u001b[0m\u001b[0;34m\u001b[0m\u001b[0;34m\u001b[0m\u001b[0m\n",
            "\u001b[0;32m<ipython-input-11-1b0e79fb95b2>\u001b[0m in \u001b[0;36mcompute_alignment_metrics\u001b[0;34m(human_sequence, chicken_sequence)\u001b[0m\n\u001b[1;32m      7\u001b[0m     \u001b[0mprint\u001b[0m\u001b[0;34m(\u001b[0m\u001b[0malignments\u001b[0m\u001b[0;34m)\u001b[0m\u001b[0;34m\u001b[0m\u001b[0;34m\u001b[0m\u001b[0m\n\u001b[1;32m      8\u001b[0m     \u001b[0;31m# Calculate sequence identity, similarity, query coverage, and gap percentage\u001b[0m\u001b[0;34m\u001b[0m\u001b[0;34m\u001b[0m\u001b[0m\n\u001b[0;32m----> 9\u001b[0;31m     \u001b[0malignment_length\u001b[0m \u001b[0;34m=\u001b[0m \u001b[0mlen\u001b[0m\u001b[0;34m(\u001b[0m\u001b[0malignments\u001b[0m\u001b[0;34m[\u001b[0m\u001b[0;36m0\u001b[0m\u001b[0;34m]\u001b[0m\u001b[0;34m)\u001b[0m\u001b[0;34m\u001b[0m\u001b[0;34m\u001b[0m\u001b[0m\n\u001b[0m\u001b[1;32m     10\u001b[0m     \u001b[0msequence_identity\u001b[0m \u001b[0;34m=\u001b[0m \u001b[0malignments\u001b[0m\u001b[0;34m[\u001b[0m\u001b[0;36m0\u001b[0m\u001b[0;34m]\u001b[0m \u001b[0;34m/\u001b[0m \u001b[0malignment_length\u001b[0m \u001b[0;34m*\u001b[0m \u001b[0;36m100\u001b[0m\u001b[0;34m\u001b[0m\u001b[0;34m\u001b[0m\u001b[0m\n\u001b[1;32m     11\u001b[0m     \u001b[0msequence_similarity\u001b[0m \u001b[0;34m=\u001b[0m \u001b[0;34m(\u001b[0m\u001b[0malignment_length\u001b[0m \u001b[0;34m-\u001b[0m \u001b[0malignments\u001b[0m\u001b[0;34m[\u001b[0m\u001b[0;36m0\u001b[0m\u001b[0;34m]\u001b[0m\u001b[0;34m)\u001b[0m \u001b[0;34m/\u001b[0m \u001b[0malignment_length\u001b[0m \u001b[0;34m*\u001b[0m \u001b[0;36m100\u001b[0m\u001b[0;34m\u001b[0m\u001b[0;34m\u001b[0m\u001b[0m\n",
            "\u001b[0;31mTypeError\u001b[0m: 'float' object is not subscriptable"
          ]
        }
      ]
    },
    {
      "cell_type": "code",
      "source": [
        "type(human_hemoglobin)"
      ],
      "metadata": {
        "colab": {
          "base_uri": "https://localhost:8080/",
          "height": 141
        },
        "id": "6HACWff8SWNG",
        "outputId": "da4ec23c-e0ee-4b18-e71d-9fe93e8eacdb"
      },
      "execution_count": null,
      "outputs": [
        {
          "output_type": "error",
          "ename": "NameError",
          "evalue": "name 'human_hemoglobin' is not defined",
          "traceback": [
            "\u001b[0;31m---------------------------------------------------------------------------\u001b[0m",
            "\u001b[0;31mNameError\u001b[0m                                 Traceback (most recent call last)",
            "\u001b[0;32m<ipython-input-73-fe0890ada03e>\u001b[0m in \u001b[0;36m<cell line: 1>\u001b[0;34m()\u001b[0m\n\u001b[0;32m----> 1\u001b[0;31m \u001b[0mtype\u001b[0m\u001b[0;34m(\u001b[0m\u001b[0mhuman_hemoglobin\u001b[0m\u001b[0;34m)\u001b[0m\u001b[0;34m\u001b[0m\u001b[0;34m\u001b[0m\u001b[0m\n\u001b[0m",
            "\u001b[0;31mNameError\u001b[0m: name 'human_hemoglobin' is not defined"
          ]
        }
      ]
    },
    {
      "cell_type": "code",
      "source": [
        "!pip install bio"
      ],
      "metadata": {
        "id": "Bf9UByPySaAc",
        "colab": {
          "base_uri": "https://localhost:8080/"
        },
        "outputId": "e091da18-2057-4ac8-a9d8-d1887c08ad17"
      },
      "execution_count": 9,
      "outputs": [
        {
          "output_type": "stream",
          "name": "stdout",
          "text": [
            "Collecting bio\n",
            "  Downloading bio-1.6.2-py3-none-any.whl (278 kB)\n",
            "\u001b[2K     \u001b[90m━━━━━━━━━━━━━━━━━━━━━━━━━━━━━━━━━━━━━━━━\u001b[0m \u001b[32m278.6/278.6 kB\u001b[0m \u001b[31m5.6 MB/s\u001b[0m eta \u001b[36m0:00:00\u001b[0m\n",
            "\u001b[?25hCollecting biopython>=1.80 (from bio)\n",
            "  Downloading biopython-1.83-cp310-cp310-manylinux_2_17_x86_64.manylinux2014_x86_64.whl (3.1 MB)\n",
            "\u001b[2K     \u001b[90m━━━━━━━━━━━━━━━━━━━━━━━━━━━━━━━━━━━━━━━━\u001b[0m \u001b[32m3.1/3.1 MB\u001b[0m \u001b[31m78.3 MB/s\u001b[0m eta \u001b[36m0:00:00\u001b[0m\n",
            "\u001b[?25hRequirement already satisfied: requests in /usr/local/lib/python3.10/dist-packages (from bio) (2.31.0)\n",
            "Requirement already satisfied: tqdm in /usr/local/lib/python3.10/dist-packages (from bio) (4.66.2)\n",
            "Collecting mygene (from bio)\n",
            "  Downloading mygene-3.2.2-py2.py3-none-any.whl (5.4 kB)\n",
            "Requirement already satisfied: pandas in /usr/local/lib/python3.10/dist-packages (from bio) (1.5.3)\n",
            "Requirement already satisfied: pooch in /usr/local/lib/python3.10/dist-packages (from bio) (1.8.1)\n",
            "Collecting gprofiler-official (from bio)\n",
            "  Downloading gprofiler_official-1.0.0-py3-none-any.whl (9.3 kB)\n",
            "Requirement already satisfied: numpy in /usr/local/lib/python3.10/dist-packages (from biopython>=1.80->bio) (1.25.2)\n",
            "Collecting biothings-client>=0.2.6 (from mygene->bio)\n",
            "  Downloading biothings_client-0.3.1-py2.py3-none-any.whl (29 kB)\n",
            "Requirement already satisfied: python-dateutil>=2.8.1 in /usr/local/lib/python3.10/dist-packages (from pandas->bio) (2.8.2)\n",
            "Requirement already satisfied: pytz>=2020.1 in /usr/local/lib/python3.10/dist-packages (from pandas->bio) (2023.4)\n",
            "Requirement already satisfied: platformdirs>=2.5.0 in /usr/local/lib/python3.10/dist-packages (from pooch->bio) (4.2.0)\n",
            "Requirement already satisfied: packaging>=20.0 in /usr/local/lib/python3.10/dist-packages (from pooch->bio) (23.2)\n",
            "Requirement already satisfied: charset-normalizer<4,>=2 in /usr/local/lib/python3.10/dist-packages (from requests->bio) (3.3.2)\n",
            "Requirement already satisfied: idna<4,>=2.5 in /usr/local/lib/python3.10/dist-packages (from requests->bio) (3.6)\n",
            "Requirement already satisfied: urllib3<3,>=1.21.1 in /usr/local/lib/python3.10/dist-packages (from requests->bio) (2.0.7)\n",
            "Requirement already satisfied: certifi>=2017.4.17 in /usr/local/lib/python3.10/dist-packages (from requests->bio) (2024.2.2)\n",
            "Requirement already satisfied: six>=1.5 in /usr/local/lib/python3.10/dist-packages (from python-dateutil>=2.8.1->pandas->bio) (1.16.0)\n",
            "Installing collected packages: biopython, gprofiler-official, biothings-client, mygene, bio\n",
            "Successfully installed bio-1.6.2 biopython-1.83 biothings-client-0.3.1 gprofiler-official-1.0.0 mygene-3.2.2\n"
          ]
        }
      ]
    },
    {
      "cell_type": "code",
      "source": [],
      "metadata": {
        "id": "FfqqMYZ7qBbH"
      },
      "execution_count": null,
      "outputs": []
    }
  ]
}