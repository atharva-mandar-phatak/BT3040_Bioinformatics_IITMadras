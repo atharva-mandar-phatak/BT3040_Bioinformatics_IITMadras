{
 "cells": [
  {
   "cell_type": "code",
   "execution_count": 62,
   "id": "6755639a",
   "metadata": {},
   "outputs": [],
   "source": [
    "import pandas as pd\n",
    "import blosum as bl\n",
    "matrix = bl.BLOSUM(62)"
   ]
  },
  {
   "cell_type": "code",
   "execution_count": 49,
   "id": "7a33f193",
   "metadata": {},
   "outputs": [],
   "source": [
    "# Define the sequences\n",
    "human = \"MVHLTPEEKSAVTALWGKVNVDEVGGEALGRLLVVYPWTQRFFESFGDLSTPDAVMGNPKVKAHGKKVLGAFSDGLAHLDNLKGTFATLSELHCDKLHVDPENFRLLGNVLVCVLAHHFGKEFTPPVQAAYQKVVAGVANALAHKYH\"\n",
    "chicken = \"MVHWTAEEKQLITGLWGKVNVAECGAEALARLLIVYPWTQRFFASFGNLSSPTAILGNPMVRAHGKKVLTSFGDAVKNLDNIKNTFSQLSELHCDKLHVDPENFRLLGDILIIVLAAHFSKDFTPECQAAWQKLVRVVAHALARKYH\""
   ]
  },
  {
   "cell_type": "code",
   "execution_count": 51,
   "id": "9eddc8fc",
   "metadata": {},
   "outputs": [],
   "source": [
    "def matching_pentapeptides(seq1,seq2):\n",
    "    data_cr  = pd.DataFrame()\n",
    "    seq = [];\n",
    "    human_occ = [];\n",
    "    chicken_occ = [];\n",
    "    for i in range(len(seq1) - 6):\n",
    "        k = 0\n",
    "        m = 0\n",
    "        if seq1[i:i+5] in seq2:\n",
    "            k = seq1.count(seq1[i:i+5])\n",
    "            m = seq2.count(seq1[i:i+5])\n",
    "            if seq.count(seq1[i:i+5]) < 1:\n",
    "                seq.append(seq1[i:i+5])\n",
    "                human_occ.append(k)\n",
    "                chicken_occ.append(m)\n",
    "        if seq2[i:i+5] in seq1:\n",
    "            if seq.count(seq2[i:i+5]) < 1: \n",
    "                k = seq1.count(seq2[i:i+5])\n",
    "                m = seq2.count(seq2[i:i+5])\n",
    "                seq.append(seq2[i:i+5])\n",
    "                human_occ.append(k)\n",
    "                chicken_occ.append(m)        \n",
    "    \n",
    "    data_cr['seq']=seq\n",
    "    print(seq)\n",
    "    data_cr['human']=human_occ\n",
    "    data_cr['chicken']=chicken_occ\n",
    "    return data_cr;"
   ]
  },
  {
   "cell_type": "code",
   "execution_count": 105,
   "id": "6abdc25d",
   "metadata": {},
   "outputs": [
    {
     "name": "stdout",
     "output_type": "stream",
     "text": [
      "['LWGKV', 'WGKVN', 'GKVNV', 'VYPWT', 'YPWTQ', 'PWTQR', 'WTQRF', 'TQRFF', 'AHGKK', 'HGKKV', 'GKKVL', 'LSELH', 'SELHC', 'ELHCD', 'LHCDK', 'HCDKL', 'CDKLH', 'DKLHV', 'KLHVD', 'LHVDP', 'HVDPE', 'VDPEN', 'DPENF', 'PENFR', 'ENFRL', 'NFRLL', 'FRLLG']\n"
     ]
    },
    {
     "data": {
      "text/html": [
       "<div>\n",
       "<style scoped>\n",
       "    .dataframe tbody tr th:only-of-type {\n",
       "        vertical-align: middle;\n",
       "    }\n",
       "\n",
       "    .dataframe tbody tr th {\n",
       "        vertical-align: top;\n",
       "    }\n",
       "\n",
       "    .dataframe thead th {\n",
       "        text-align: right;\n",
       "    }\n",
       "</style>\n",
       "<table border=\"1\" class=\"dataframe\">\n",
       "  <thead>\n",
       "    <tr style=\"text-align: right;\">\n",
       "      <th></th>\n",
       "      <th>seq</th>\n",
       "      <th>human</th>\n",
       "      <th>chicken</th>\n",
       "    </tr>\n",
       "  </thead>\n",
       "  <tbody>\n",
       "    <tr>\n",
       "      <th>0</th>\n",
       "      <td>LWGKV</td>\n",
       "      <td>1</td>\n",
       "      <td>1</td>\n",
       "    </tr>\n",
       "    <tr>\n",
       "      <th>1</th>\n",
       "      <td>WGKVN</td>\n",
       "      <td>1</td>\n",
       "      <td>1</td>\n",
       "    </tr>\n",
       "    <tr>\n",
       "      <th>2</th>\n",
       "      <td>GKVNV</td>\n",
       "      <td>1</td>\n",
       "      <td>1</td>\n",
       "    </tr>\n",
       "    <tr>\n",
       "      <th>3</th>\n",
       "      <td>VYPWT</td>\n",
       "      <td>1</td>\n",
       "      <td>1</td>\n",
       "    </tr>\n",
       "    <tr>\n",
       "      <th>4</th>\n",
       "      <td>YPWTQ</td>\n",
       "      <td>1</td>\n",
       "      <td>1</td>\n",
       "    </tr>\n",
       "    <tr>\n",
       "      <th>5</th>\n",
       "      <td>PWTQR</td>\n",
       "      <td>1</td>\n",
       "      <td>1</td>\n",
       "    </tr>\n",
       "    <tr>\n",
       "      <th>6</th>\n",
       "      <td>WTQRF</td>\n",
       "      <td>1</td>\n",
       "      <td>1</td>\n",
       "    </tr>\n",
       "    <tr>\n",
       "      <th>7</th>\n",
       "      <td>TQRFF</td>\n",
       "      <td>1</td>\n",
       "      <td>1</td>\n",
       "    </tr>\n",
       "    <tr>\n",
       "      <th>8</th>\n",
       "      <td>AHGKK</td>\n",
       "      <td>1</td>\n",
       "      <td>1</td>\n",
       "    </tr>\n",
       "    <tr>\n",
       "      <th>9</th>\n",
       "      <td>HGKKV</td>\n",
       "      <td>1</td>\n",
       "      <td>1</td>\n",
       "    </tr>\n",
       "    <tr>\n",
       "      <th>10</th>\n",
       "      <td>GKKVL</td>\n",
       "      <td>1</td>\n",
       "      <td>1</td>\n",
       "    </tr>\n",
       "    <tr>\n",
       "      <th>11</th>\n",
       "      <td>LSELH</td>\n",
       "      <td>1</td>\n",
       "      <td>1</td>\n",
       "    </tr>\n",
       "    <tr>\n",
       "      <th>12</th>\n",
       "      <td>SELHC</td>\n",
       "      <td>1</td>\n",
       "      <td>1</td>\n",
       "    </tr>\n",
       "    <tr>\n",
       "      <th>13</th>\n",
       "      <td>ELHCD</td>\n",
       "      <td>1</td>\n",
       "      <td>1</td>\n",
       "    </tr>\n",
       "    <tr>\n",
       "      <th>14</th>\n",
       "      <td>LHCDK</td>\n",
       "      <td>1</td>\n",
       "      <td>1</td>\n",
       "    </tr>\n",
       "    <tr>\n",
       "      <th>15</th>\n",
       "      <td>HCDKL</td>\n",
       "      <td>1</td>\n",
       "      <td>1</td>\n",
       "    </tr>\n",
       "    <tr>\n",
       "      <th>16</th>\n",
       "      <td>CDKLH</td>\n",
       "      <td>1</td>\n",
       "      <td>1</td>\n",
       "    </tr>\n",
       "    <tr>\n",
       "      <th>17</th>\n",
       "      <td>DKLHV</td>\n",
       "      <td>1</td>\n",
       "      <td>1</td>\n",
       "    </tr>\n",
       "    <tr>\n",
       "      <th>18</th>\n",
       "      <td>KLHVD</td>\n",
       "      <td>1</td>\n",
       "      <td>1</td>\n",
       "    </tr>\n",
       "    <tr>\n",
       "      <th>19</th>\n",
       "      <td>LHVDP</td>\n",
       "      <td>1</td>\n",
       "      <td>1</td>\n",
       "    </tr>\n",
       "    <tr>\n",
       "      <th>20</th>\n",
       "      <td>HVDPE</td>\n",
       "      <td>1</td>\n",
       "      <td>1</td>\n",
       "    </tr>\n",
       "    <tr>\n",
       "      <th>21</th>\n",
       "      <td>VDPEN</td>\n",
       "      <td>1</td>\n",
       "      <td>1</td>\n",
       "    </tr>\n",
       "    <tr>\n",
       "      <th>22</th>\n",
       "      <td>DPENF</td>\n",
       "      <td>1</td>\n",
       "      <td>1</td>\n",
       "    </tr>\n",
       "    <tr>\n",
       "      <th>23</th>\n",
       "      <td>PENFR</td>\n",
       "      <td>1</td>\n",
       "      <td>1</td>\n",
       "    </tr>\n",
       "    <tr>\n",
       "      <th>24</th>\n",
       "      <td>ENFRL</td>\n",
       "      <td>1</td>\n",
       "      <td>1</td>\n",
       "    </tr>\n",
       "    <tr>\n",
       "      <th>25</th>\n",
       "      <td>NFRLL</td>\n",
       "      <td>1</td>\n",
       "      <td>1</td>\n",
       "    </tr>\n",
       "    <tr>\n",
       "      <th>26</th>\n",
       "      <td>FRLLG</td>\n",
       "      <td>1</td>\n",
       "      <td>1</td>\n",
       "    </tr>\n",
       "  </tbody>\n",
       "</table>\n",
       "</div>"
      ],
      "text/plain": [
       "      seq  human  chicken\n",
       "0   LWGKV      1        1\n",
       "1   WGKVN      1        1\n",
       "2   GKVNV      1        1\n",
       "3   VYPWT      1        1\n",
       "4   YPWTQ      1        1\n",
       "5   PWTQR      1        1\n",
       "6   WTQRF      1        1\n",
       "7   TQRFF      1        1\n",
       "8   AHGKK      1        1\n",
       "9   HGKKV      1        1\n",
       "10  GKKVL      1        1\n",
       "11  LSELH      1        1\n",
       "12  SELHC      1        1\n",
       "13  ELHCD      1        1\n",
       "14  LHCDK      1        1\n",
       "15  HCDKL      1        1\n",
       "16  CDKLH      1        1\n",
       "17  DKLHV      1        1\n",
       "18  KLHVD      1        1\n",
       "19  LHVDP      1        1\n",
       "20  HVDPE      1        1\n",
       "21  VDPEN      1        1\n",
       "22  DPENF      1        1\n",
       "23  PENFR      1        1\n",
       "24  ENFRL      1        1\n",
       "25  NFRLL      1        1\n",
       "26  FRLLG      1        1"
      ]
     },
     "execution_count": 105,
     "metadata": {},
     "output_type": "execute_result"
    }
   ],
   "source": [
    "matching_pentapeptides(human,chicken)"
   ]
  },
  {
   "cell_type": "code",
   "execution_count": 54,
   "id": "93e6413a",
   "metadata": {},
   "outputs": [],
   "source": [
    "def seq_identity(seq1,seq2):\n",
    "    k = 0;\n",
    "    for x in range(len(seq1)):\n",
    "        if seq1[x] == seq2[x]:\n",
    "            k +=1;\n",
    "    return ((k/len(seq1))*100);"
   ]
  },
  {
   "cell_type": "code",
   "execution_count": 106,
   "id": "3bf27c09",
   "metadata": {},
   "outputs": [],
   "source": [
    "def seq_similarlity(seq1,seq2,matrix):\n",
    "    k = 0;\n",
    "    for (x, y) in zip(seq1, seq2):\n",
    "        if matrix[x+y] > 0 :\n",
    "            k +=1;\n",
    "    return ((k/len(seq1))*100);"
   ]
  },
  {
   "cell_type": "code",
   "execution_count": 117,
   "id": "23d54f5f",
   "metadata": {},
   "outputs": [],
   "source": [
    "def query_coverage(seq1,seq2):\n",
    "    human = 0;\n",
    "    chicken = 0;\n",
    "    h_query = 0;\n",
    "    c_query = 0;\n",
    "    human = seq1.count('-')\n",
    "    chicken = seq2.count('-')\n",
    "    h_query = (((len(seq1) - human )/len(seq1))*100)\n",
    "    c_query = (((len(seq1) - chicken )/len(seq1))*100)\n",
    "    print(\"query_coverage for human is: \",h_query)\n",
    "    print(\"query_coverage for chicken is: \",c_query)\n",
    "    return ;"
   ]
  },
  {
   "cell_type": "code",
   "execution_count": 111,
   "id": "0a24c6c5",
   "metadata": {},
   "outputs": [],
   "source": [
    "def gap_percentage(seq1,seq2):\n",
    "    human = 0;\n",
    "    chicken = 0;\n",
    "    human = seq1.count('-')\n",
    "    chicken = seq2.count('-')\n",
    "    return (((human+chicken)/len(seq1))*100);"
   ]
  },
  {
   "cell_type": "code",
   "execution_count": 107,
   "id": "965b1770",
   "metadata": {},
   "outputs": [
    {
     "data": {
      "text/plain": [
       "69.38775510204081"
      ]
     },
     "execution_count": 107,
     "metadata": {},
     "output_type": "execute_result"
    }
   ],
   "source": [
    "seq_identity(human,chicken)"
   ]
  },
  {
   "cell_type": "code",
   "execution_count": 108,
   "id": "1b1c0430",
   "metadata": {},
   "outputs": [
    {
     "data": {
      "text/plain": [
       "82.31292517006803"
      ]
     },
     "execution_count": 108,
     "metadata": {},
     "output_type": "execute_result"
    }
   ],
   "source": [
    "seq_similarlity(human,chicken,matrix)"
   ]
  },
  {
   "cell_type": "code",
   "execution_count": 112,
   "id": "f24dee43",
   "metadata": {},
   "outputs": [
    {
     "data": {
      "text/plain": [
       "0.0"
      ]
     },
     "execution_count": 112,
     "metadata": {},
     "output_type": "execute_result"
    }
   ],
   "source": [
    "gap_percentage(human,chicken)"
   ]
  },
  {
   "cell_type": "code",
   "execution_count": 118,
   "id": "3f40078c",
   "metadata": {},
   "outputs": [
    {
     "name": "stdout",
     "output_type": "stream",
     "text": [
      "query_coverage for human is:  100.0\n",
      "query_coverage for chicken is:  100.0\n"
     ]
    }
   ],
   "source": [
    "query_coverage(human,chicken)"
   ]
  },
  {
   "cell_type": "code",
   "execution_count": null,
   "id": "b5d2e468",
   "metadata": {},
   "outputs": [],
   "source": []
  }
 ],
 "metadata": {
  "kernelspec": {
   "display_name": "Python 3 (ipykernel)",
   "language": "python",
   "name": "python3"
  },
  "language_info": {
   "codemirror_mode": {
    "name": "ipython",
    "version": 3
   },
   "file_extension": ".py",
   "mimetype": "text/x-python",
   "name": "python",
   "nbconvert_exporter": "python",
   "pygments_lexer": "ipython3",
   "version": "3.11.1"
  }
 },
 "nbformat": 4,
 "nbformat_minor": 5
}
