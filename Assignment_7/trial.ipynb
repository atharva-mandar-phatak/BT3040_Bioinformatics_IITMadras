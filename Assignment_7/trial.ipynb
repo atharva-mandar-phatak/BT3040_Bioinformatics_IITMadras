{
 "cells": [
  {
   "cell_type": "code",
   "execution_count": 1,
   "metadata": {},
   "outputs": [
    {
     "name": "stdout",
     "output_type": "stream",
     "text": [
      "Shree\n"
     ]
    }
   ],
   "source": [
    "print(\"Shree\")"
   ]
  },
  {
   "cell_type": "code",
   "execution_count": 2,
   "metadata": {},
   "outputs": [],
   "source": [
    "seq1= 'RATPTRWPVGCFNRPWTKWSYDEALDGIKAAGYAWTGLLTASKPSLHHATATPEYLAALKQKSRHAA'\n",
    "seq2= 'AAAVMMGLAAIGAAIGIGILGGKFLEGAARQPDLIPLLRTQFFIVMGLVDAIPMIAVGLGLYVMFAVA' \n",
    "seq3= 'AADVSAAVGATGQSGMTYRLGLSWDWDKSWWQTSTGRLTGYWDAGYTYWEGGDEGAGKHSLSFAPVFVYEFAGDSIKPFIEAGIGVAAFSGTRVGDQNLGSSLNFEDRIGAGLKFANGQSVGVRAIHYSNAGLKQPNDGIESYSLFYKIPI'"
   ]
  },
  {
   "cell_type": "code",
   "execution_count": 3,
   "metadata": {},
   "outputs": [
    {
     "name": "stdout",
     "output_type": "stream",
     "text": [
      "Sequence 1 composition -: {'A': 17.91044776119403, 'C': 1.492537313432836, 'D': 2.985074626865672, 'E': 2.985074626865672, 'F': 1.492537313432836, 'G': 5.970149253731344, 'W': 5.970149253731344, 'H': 4.477611940298507, 'I': 1.492537313432836, 'K': 7.462686567164179, 'L': 8.955223880597014, 'M': 0.0, 'N': 1.492537313432836, 'Y': 4.477611940298507, 'P': 7.462686567164179, 'Q': 1.492537313432836, 'R': 5.970149253731344, 'S': 5.970149253731344, 'T': 10.447761194029852, 'V': 1.492537313432836}\n",
      "Sequence 2 composition -: {'A': 19.11764705882353, 'C': 0.0, 'D': 2.9411764705882355, 'E': 1.4705882352941178, 'F': 5.882352941176471, 'G': 14.705882352941176, 'W': 14.705882352941176, 'H': 0.0, 'I': 11.764705882352942, 'K': 1.4705882352941178, 'L': 13.235294117647058, 'M': 7.352941176470588, 'N': 0.0, 'Y': 1.4705882352941178, 'P': 4.411764705882353, 'Q': 2.9411764705882355, 'R': 2.9411764705882355, 'S': 0.0, 'T': 1.4705882352941178, 'V': 8.823529411764707}\n",
      "Sequence 3 composition -: {'A': 10.596026490066226, 'C': 0.0, 'D': 5.960264900662252, 'E': 3.9735099337748343, 'F': 5.298013245033113, 'G': 15.2317880794702, 'W': 15.2317880794702, 'H': 1.3245033112582782, 'I': 5.298013245033113, 'K': 3.9735099337748343, 'L': 5.960264900662252, 'M': 0.6622516556291391, 'N': 3.3112582781456954, 'Y': 5.298013245033113, 'P': 2.6490066225165565, 'Q': 3.3112582781456954, 'R': 3.3112582781456954, 'S': 9.933774834437086, 'T': 4.635761589403973, 'V': 5.298013245033113}\n"
     ]
    }
   ],
   "source": [
    "def aa_freq_calc(seq):\n",
    "       \n",
    "       freq_dict={'A': seq.count('A'),'C': seq.count('C'), 'D':seq.count('D'), 'E':seq.count('E'), 'F': seq.count('F'), 'G': seq.count('G'), 'W': seq.count('G'), 'H': seq.count('H'), 'I': seq.count('I'), 'K': seq.count('K'), 'L': seq.count('L'), 'M': seq.count('M'), 'N': seq.count('N'), 'Y': seq.count('Y'), 'P': seq.count('P'), 'Q':seq.count('Q'), 'R':seq.count('R'), 'S': seq.count('S'), 'T': seq.count('T'), 'V': seq.count('V')}\n",
    "       aa_composition = {key: (freq_dict[key]*100)/ len(seq) for key in freq_dict}\n",
    "\n",
    "       return freq_dict,aa_composition\n",
    "\n",
    "residue_freq,residue_percent=aa_freq_calc(seq1)\n",
    "\n",
    "print(f\"Sequence 1 composition -: {aa_freq_calc(seq1)[1]}\")\n",
    "print(f\"Sequence 2 composition -: {aa_freq_calc(seq2)[1]}\")\n",
    "print(f\"Sequence 3 composition -: {aa_freq_calc(seq3)[1]}\")"
   ]
  },
  {
   "cell_type": "code",
   "execution_count": 4,
   "metadata": {},
   "outputs": [
    {
     "name": "stdout",
     "output_type": "stream",
     "text": [
      "Molecular Weight of seq 1 = 7127 \n",
      "\n",
      "Molecular Weight of seq 2 = 6529 \n",
      "\n",
      "Molecular Weight of seq 3 = 15453 \n",
      "\n"
     ]
    }
   ],
   "source": [
    "mwdict={'A': 85, 'C': 115, 'D': 130, 'E': 145, 'F': 160, 'G': 70, 'W': 200,\n",
    "'H': 150, 'I': 125, 'K': 145, 'L': 125, 'M': 143, 'N': 130, 'Y': 175,\n",
    "'P': 110, 'Q': 140, 'R': 170, 'S': 100, 'T': 115, 'V': 110}\n",
    "\n",
    "strings=['''RATPTRWPVGCFNRPWTKWSYDEALDGIKAAGYAWTGLLTASKPSLHHATATPEYLAALKQKSRHAA''',\n",
    "         '''AAAVMMGLAAIGAAIGIGILGGKFLEGAARQPDLIPLLRTQFFIVMGLVDAIPMIAVGLGLYVMFAVA''',\n",
    "         '''AADVSAAVGATGQSGMTYRLGLSWDWDKSWWQTSTGRLTGYWDAGYTYWEGGDEGAGKHSLSFAPVFVYEFAGDSIKPFIEAGIGVAAFSGTRVGDQNLGSSLNFEDRIGAGLKFANGQSVGVRAIHYSNAGLKQPNDGIESYSLFYKIPI''']\n",
    "\n",
    "for i in strings:\n",
    "    mw=0\n",
    "    aacompdict={}\n",
    "    for j in range(len(i)):\n",
    "        if i[j] in aacompdict:\n",
    "            aacompdict.update({i[j]:aacompdict[i[j]]+1})\n",
    "        else:\n",
    "            aacompdict[i[j]]=1\n",
    "    for k in aacompdict:\n",
    "        mw+=aacompdict[k]*mwdict[k]\n",
    "    mw-=(len(strings[strings.index(i)])-1)*18\n",
    "    #print(\"Molecular Weight of seq\", i, \"=\", mw, \"\\n\")\n",
    "    print(\"Molecular Weight of seq\", strings.index(i)+1, \"=\", mw, \"\\n\")"
   ]
  },
  {
   "cell_type": "code",
   "execution_count": 5,
   "metadata": {},
   "outputs": [
    {
     "name": "stdout",
     "output_type": "stream",
     "text": [
      "Mol Wt for Sequence 1 is 8315 units\n",
      "Mol Wt for Sequence 2 is 7735 units\n",
      "Mol Wt for Sequence 3 is 18153 units\n"
     ]
    }
   ],
   "source": [
    "# BT3040 Assignment 7| Atharva Mandar Phatak | BE21B009\n",
    "#Q2\n",
    "\n",
    "def aa_molwt_calc(AA_input):\n",
    "    Mol_Wt_dict={'A': 85,'C': 115, 'D': 130, 'E': 145, 'F': 160, 'G': 70, 'W': 200, 'H': 150, 'I': 125, 'K': 145, 'L': 125, 'M': 143, 'N': 130, 'Y': 175, 'P': 110, 'Q': 140, 'R': 170, 'S': 100, 'T': 115, 'V': 110}\n",
    "    mol_wt_aa=0\n",
    "    for i in AA_input:\n",
    "        mol_wt_aa=mol_wt_aa+Mol_Wt_dict[i]\n",
    "    return mol_wt_aa\n",
    "\n",
    "\n",
    "\n",
    "print(f\"Mol Wt for Sequence 1 is {aa_molwt_calc(seq1)} units\")\n",
    "print(f\"Mol Wt for Sequence 2 is {aa_molwt_calc(seq2)} units\")\n",
    "print(f\"Mol Wt for Sequence 3 is {aa_molwt_calc(seq3)} units\")"
   ]
  },
  {
   "cell_type": "code",
   "execution_count": 6,
   "metadata": {},
   "outputs": [
    {
     "name": "stdout",
     "output_type": "stream",
     "text": [
      "<class 'dict'>\n",
      "Belongs to B\n",
      "Belongs to B\n",
      "Belongs to A\n"
     ]
    }
   ],
   "source": [
    "import numpy as np  \n",
    "standart_set={'A': (8.47, 8.95),\n",
    " 'D': (5.97, 5.91),\n",
    " 'C': (1.39, 0.47),\n",
    " 'E': (6.32, 4.78),\n",
    " 'T': (5.79, 6.54),\n",
    " 'F': (3.91, 3.68),\n",
    " 'G': (7.82, 8.54),\n",
    " 'H': (2.26, 1.25),\n",
    " 'I': (5.71, 4.77),\n",
    " 'V': (7.02, 6.76),\n",
    " 'K': (5.76, 4.93),\n",
    " 'L': (8.48, 8.78),\n",
    " 'M': (2.21, 1.56),\n",
    " 'N': (4.54, 5.74),\n",
    " 'W': (1.44, 1.24),\n",
    " 'P': (4.63, 3.74),\n",
    " 'Q': (3.82, 4.75),\n",
    " 'R': (4.93, 5.24),\n",
    " 'S': (5.94, 8.05),\n",
    " 'Y': (3.58, 4.13)}\n",
    "print(type(aa_freq_calc(seq1)[1]))\n",
    "sorted_standard_set = {k: standart_set[k] for k in sorted(standart_set)}\n",
    "\n",
    "seq1_comps=np.array(list(aa_freq_calc(seq1)[1].values()))\n",
    "seq2_comps=np.array(list(aa_freq_calc(seq2)[1].values()))\n",
    "seq3_comps=np.array(list(aa_freq_calc(seq3)[1].values()))\n",
    "groupA_values=[value[0] for value in np.array(list(sorted_standard_set.values()))]\n",
    "groupB_values=[value[1] for value in np.array(list(sorted_standard_set.values()))]\n",
    "\n",
    "corr_A_1=np.correlate(seq1_comps,groupA_values)\n",
    "std_div_1_B=np.correlate(seq1_comps,groupB_values)\n",
    "\n",
    "def corr_calc(seqA,groupA,groupB):\n",
    "    corr_A =float(np.correlate(seqA,groupA))\n",
    "    corr_B =float(np.correlate(seqA,groupB))\n",
    "    if corr_A > corr_B :\n",
    "        print(\"Belongs to A\")\n",
    "    else: print(\"Belongs to B\")\n",
    "\n",
    "corr_calc(seq1_comps,groupA_values,groupB_values)\n",
    "corr_calc(seq2_comps,groupA_values,groupB_values)\n",
    "corr_calc(seq3_comps,groupA_values,groupB_values)"
   ]
  },
  {
   "cell_type": "code",
   "execution_count": 19,
   "metadata": {},
   "outputs": [
    {
     "ename": "KeyError",
     "evalue": "17.91044776119403",
     "output_type": "error",
     "traceback": [
      "\u001b[1;31m---------------------------------------------------------------------------\u001b[0m",
      "\u001b[1;31mKeyError\u001b[0m                                  Traceback (most recent call last)",
      "Cell \u001b[1;32mIn[19], line 95\u001b[0m\n\u001b[0;32m     91\u001b[0m       et_avg\u001b[38;5;241m=\u001b[39m et_sum\u001b[38;5;241m/\u001b[39m\u001b[38;5;28mlen\u001b[39m(AA_input)\n\u001b[0;32m     92\u001b[0m       \u001b[38;5;28;01mreturn\u001b[39;00m et_avg\n\u001b[1;32m---> 95\u001b[0m \u001b[38;5;28mprint\u001b[39m(\u001b[38;5;124m\"\u001b[39m\u001b[38;5;124mHydrophobicity for Sequence 1 is\u001b[39m\u001b[38;5;124m\"\u001b[39m,\u001b[43mhgm_calc\u001b[49m\u001b[43m(\u001b[49m\u001b[43mseq1_comps\u001b[49m\u001b[43m)\u001b[49m)\n\u001b[0;32m     96\u001b[0m \u001b[38;5;28mprint\u001b[39m(\u001b[38;5;124m\"\u001b[39m\u001b[38;5;124mHydrophobicity for Sequence 1 is\u001b[39m\u001b[38;5;124m\"\u001b[39m,hgm_calc(seq1))\n",
      "Cell \u001b[1;32mIn[19], line 27\u001b[0m, in \u001b[0;36mhgm_calc\u001b[1;34m(AA_input)\u001b[0m\n\u001b[0;32m     25\u001b[0m hgm_sum\u001b[38;5;241m=\u001b[39m\u001b[38;5;241m0\u001b[39m\n\u001b[0;32m     26\u001b[0m \u001b[38;5;28;01mfor\u001b[39;00m i \u001b[38;5;129;01min\u001b[39;00m (AA_input):\n\u001b[1;32m---> 27\u001b[0m       hgm_sum\u001b[38;5;241m=\u001b[39mhgm_sum\u001b[38;5;241m+\u001b[39m\u001b[43mhgm\u001b[49m\u001b[43m[\u001b[49m\u001b[43mi\u001b[49m\u001b[43m]\u001b[49m\n\u001b[0;32m     29\u001b[0m hgm_avg\u001b[38;5;241m=\u001b[39m hgm_sum\u001b[38;5;241m/\u001b[39m\u001b[38;5;28mlen\u001b[39m(AA_input)\n\u001b[0;32m     30\u001b[0m \u001b[38;5;28;01mreturn\u001b[39;00m hgm_avg\n",
      "\u001b[1;31mKeyError\u001b[0m: 17.91044776119403"
     ]
    }
   ],
   "source": [
    "#Q5\n",
    "def hgm_calc(AA_input):\n",
    "      \n",
    "      hgm={'A': 13.85,\n",
    "        'D': 11.61,\n",
    "        'C': 15.37,\n",
    "        'E': 11.38,\n",
    "        'F': 13.93,\n",
    "        'G': 13.34,\n",
    "        'H': 13.82,\n",
    "        'I': 15.28,\n",
    "        'K': 11.58,\n",
    "        'L': 14.13,\n",
    "        'M': 13.86,\n",
    "        'N': 13.02,\n",
    "        'P': 12.35,\n",
    "        'Q': 12.61,\n",
    "        'R': 13.1,\n",
    "        'S': 13.39,\n",
    "        'T': 12.7,\n",
    "        'V': 14.56,\n",
    "        'W': 15.48,\n",
    "        'Y': 13.88}\n",
    "      \n",
    "      hgm_sum=0\n",
    "      for i in (AA_input):\n",
    "            hgm_sum=hgm_sum+hgm[i]\n",
    "            \n",
    "      hgm_avg= hgm_sum/len(AA_input)\n",
    "      return hgm_avg\n",
    "\n",
    "\n",
    "def ca_calc(AA_input):\n",
    "    \n",
    "   \n",
    "    ca={'A': 20.0,\n",
    "    'D': 26.0,\n",
    "    'C': 25.0,\n",
    "    'E': 33.0,\n",
    "    'F': 46.0,\n",
    "    'G': 13.0,\n",
    "    'H': 37.0,\n",
    "    'I': 39.0,\n",
    "    'K': 46.0,\n",
    "    'L': 35.0,\n",
    "    'M': 43.0,\n",
    "    'N': 28.0,\n",
    "    'P': 22.0,\n",
    "    'Q': 36.0,\n",
    "    'R': 55.0,\n",
    "    'S': 20.0,\n",
    "    'T': 28.0,\n",
    "    'V': 33.0,\n",
    "    'W': 61.0,\n",
    "    'Y': 46.0}\n",
    "\n",
    "    ca_aa_sum=0\n",
    "    for i in (AA_input):\n",
    "            ca_aa_sum=ca_aa_sum+ca[i]\n",
    "            \n",
    "    ca_avg= ca_aa_sum/len(AA_input)\n",
    "    return ca_avg\n",
    "\n",
    "def et_calc(AA_input):\n",
    "\n",
    "      et={'A': 1.9,\n",
    "      'D': 1.52,\n",
    "      'C': 2.04,\n",
    "      'E': 1.54,\n",
    "      'F': 1.86,\n",
    "      'G': 1.9,\n",
    "      'H': 1.76,\n",
    "      'I': 1.95,\n",
    "      'K': 1.37,\n",
    "      'L': 1.97,\n",
    "      'M': 1.96,\n",
    "      'N': 1.56,\n",
    "      'P': 1.7,\n",
    "      'Q': 1.52,\n",
    "      'R': 1.48,\n",
    "      'S': 1.75,\n",
    "      'T': 1.77,\n",
    "      'V': 1.98,\n",
    "      'W': 1.87,\n",
    "      'Y': 1.69}\n",
    "\n",
    "      et_sum=0\n",
    "      for i in (AA_input):\n",
    "                  et_sum=et_sum+et[i]\n",
    "                  \n",
    "      et_avg= et_sum/len(AA_input)\n",
    "      return et_avg\n",
    "\n",
    "\n",
    "print(\"Hydrophobicity for Sequence 1 is\",hgm_calc(seq1_comps))\n",
    "print(\"Hydrophobicity for Sequence 1 is\",hgm_calc(seq1))"
   ]
  },
  {
   "cell_type": "code",
   "execution_count": 18,
   "metadata": {},
   "outputs": [
    {
     "ename": "KeyError",
     "evalue": "17.91044776119403",
     "output_type": "error",
     "traceback": [
      "\u001b[1;31m---------------------------------------------------------------------------\u001b[0m",
      "\u001b[1;31mKeyError\u001b[0m                                  Traceback (most recent call last)",
      "Cell \u001b[1;32mIn[18], line 32\u001b[0m\n\u001b[0;32m     29\u001b[0m     \u001b[38;5;28;01mreturn\u001b[39;00m et_avg\n\u001b[0;32m     31\u001b[0m \u001b[38;5;66;03m# Assuming seq1_comps and seq1 are defined elsewhere in your code\u001b[39;00m\n\u001b[1;32m---> 32\u001b[0m \u001b[38;5;28mprint\u001b[39m(\u001b[38;5;124m\"\u001b[39m\u001b[38;5;124mHydrophobicity for Sequence 1 is\u001b[39m\u001b[38;5;124m\"\u001b[39m, \u001b[43mhgm_calc\u001b[49m\u001b[43m(\u001b[49m\u001b[43mseq1_comps\u001b[49m\u001b[43m)\u001b[49m)\n\u001b[0;32m     33\u001b[0m \u001b[38;5;28mprint\u001b[39m(\u001b[38;5;124m\"\u001b[39m\u001b[38;5;124mHydrophobicity for Sequence 1 is\u001b[39m\u001b[38;5;124m\"\u001b[39m, hgm_calc(seq1))\n",
      "Cell \u001b[1;32mIn[18], line 6\u001b[0m, in \u001b[0;36mhgm_calc\u001b[1;34m(AA_input)\u001b[0m\n\u001b[0;32m      4\u001b[0m hgm_sum \u001b[38;5;241m=\u001b[39m \u001b[38;5;241m0\u001b[39m\n\u001b[0;32m      5\u001b[0m \u001b[38;5;28;01mfor\u001b[39;00m i \u001b[38;5;129;01min\u001b[39;00m AA_input:\n\u001b[1;32m----> 6\u001b[0m     hgm_sum \u001b[38;5;241m+\u001b[39m\u001b[38;5;241m=\u001b[39m \u001b[43mhgm\u001b[49m\u001b[43m[\u001b[49m\u001b[43mi\u001b[49m\u001b[43m]\u001b[49m\n\u001b[0;32m      8\u001b[0m hgm_avg \u001b[38;5;241m=\u001b[39m hgm_sum \u001b[38;5;241m/\u001b[39m \u001b[38;5;28mlen\u001b[39m(AA_input)\n\u001b[0;32m      9\u001b[0m \u001b[38;5;28;01mreturn\u001b[39;00m hgm_avg\n",
      "\u001b[1;31mKeyError\u001b[0m: 17.91044776119403"
     ]
    }
   ],
   "source": [
    "def hgm_calc(AA_input):\n",
    "    hgm = {'A': 13.85, 'D': 11.61, 'C': 15.37, 'E': 11.38, 'F': 13.93, 'G': 13.34, 'H': 13.82, 'I': 15.28, 'K': 11.58, 'L': 14.13, 'M': 13.86, 'N': 13.02, 'P': 12.35, 'Q': 12.61, 'R': 13.1, 'S': 13.39, 'T': 12.7, 'V': 14.56, 'W': 15.48, 'Y': 13.88}\n",
    "    \n",
    "    hgm_sum = 0\n",
    "    for i in AA_input:\n",
    "        hgm_sum += hgm[i]\n",
    "    \n",
    "    hgm_avg = hgm_sum / len(AA_input)\n",
    "    return hgm_avg\n",
    "\n",
    "def ca_calc(AA_input):\n",
    "    ca = {'A': 20.0, 'D': 26.0, 'C': 25.0, 'E': 33.0, 'F': 46.0, 'G': 13.0, 'H': 37.0, 'I': 39.0, 'K': 46.0, 'L': 35.0, 'M': 43.0, 'N': 28.0, 'P': 22.0, 'Q': 36.0, 'R': 55.0, 'S': 20.0, 'T': 28.0, 'V': 33.0, 'W': 61.0, 'Y': 46.0}\n",
    "    \n",
    "    ca_aa_sum = 0\n",
    "    for i in AA_input:\n",
    "        ca_aa_sum += ca[i]\n",
    "    \n",
    "    ca_avg = ca_aa_sum / len(AA_input)\n",
    "    return ca_avg\n",
    "\n",
    "def et_calc(AA_input):\n",
    "    et = {'A': 1.9, 'D': 1.52, 'C': 2.04, 'E': 1.54, 'F': 1.86, 'G': 1.9, 'H': 1.76, 'I': 1.95, 'K': 1.37, 'L': 1.97, 'M': 1.96, 'N': 1.56, 'P': 1.7, 'Q': 1.52, 'R': 1.48, 'S': 1.75, 'T': 1.77, 'V': 1.98, 'W': 1.87, 'Y': 1.69}\n",
    "    \n",
    "    et_sum = 0\n",
    "    for i in AA_input:\n",
    "        et_sum += et[i]\n",
    "    \n",
    "    et_avg = et_sum / len(AA_input)\n",
    "    return et_avg\n",
    "\n",
    "# Assuming seq1_comps and seq1 are defined elsewhere in your code\n",
    "print(\"Hydrophobicity for Sequence 1 is\", hgm_calc(seq1_comps))\n",
    "print(\"Hydrophobicity for Sequence 1 is\", hgm_calc(seq1))\n"
   ]
  },
  {
   "cell_type": "code",
   "execution_count": 7,
   "metadata": {},
   "outputs": [],
   "source": [
    "data = {\n",
    "    'Ala': (8.47, 8.95),\n",
    "    'Asp': (5.97, 5.91),\n",
    "    'Cys': (1.39, 0.47),\n",
    "    'Glu': (6.32, 4.78),\n",
    "    'Thr': (5.79, 6.54),\n",
    "    'Phe': (3.91, 3.68),\n",
    "    'Gly': (7.82, 8.54),\n",
    "    'His': (2.26, 1.25),\n",
    "    'Ile': (5.71, 4.77),\n",
    "    'Val': (7.02, 6.76),\n",
    "    'Lys': (5.76, 4.93),\n",
    "    'Leu': (8.48, 8.78),\n",
    "    'Met': (2.21, 1.56),\n",
    "    'Asn': (4.54, 5.74),\n",
    "    'Trp': (1.44, 1.24),\n",
    "    'Pro': (4.63, 3.74),\n",
    "    'Gln': (3.82, 4.75),\n",
    "    'Arg': (4.93, 5.24),\n",
    "    'Ser': (5.94, 8.05),\n",
    "    'Tyr': (3.58, 4.13)\n",
    "}\n"
   ]
  },
  {
   "cell_type": "code",
   "execution_count": 19,
   "metadata": {},
   "outputs": [],
   "source": [
    "three_to_one = {\n",
    "    'Ala': 'A',\n",
    "    'Cys': 'C',\n",
    "    'Asp': 'D',\n",
    "    'Glu': 'E',\n",
    "    'Phe': 'F',\n",
    "    'Gly': 'G',\n",
    "    'Trp': 'W',\n",
    "    'His': 'H',\n",
    "    'Ile': 'I',\n",
    "    'Lys': 'K',\n",
    "    'Leu': 'L',\n",
    "    'Met': 'M',\n",
    "    'Asn': 'N',\n",
    "    'Tyr': 'Y',\n",
    "    'Pro': 'P',\n",
    "    'Gln': 'Q',\n",
    "    'Arg': 'R',\n",
    "    'Ser': 'S',\n",
    "    'Thr': 'T',\n",
    "    'Val': 'V'\n",
    "}\n",
    "\n",
    "# Creating a dictionary with one-letter code as key and molecular weight as value\n",
    "amino_acids = {three_to_one[key]: data[key] for key in data}"
   ]
  },
  {
   "cell_type": "code",
   "execution_count": 35,
   "metadata": {},
   "outputs": [
    {
     "data": {
      "text/plain": [
       "{'A': 1.9,\n",
       " 'D': 1.52,\n",
       " 'C': 2.04,\n",
       " 'E': 1.54,\n",
       " 'F': 1.86,\n",
       " 'G': 1.9,\n",
       " 'H': 1.76,\n",
       " 'I': 1.95,\n",
       " 'K': 1.37,\n",
       " 'L': 1.97,\n",
       " 'M': 1.96,\n",
       " 'N': 1.56,\n",
       " 'P': 1.7,\n",
       " 'Q': 1.52,\n",
       " 'R': 1.48,\n",
       " 'S': 1.75,\n",
       " 'T': 1.77,\n",
       " 'V': 1.98,\n",
       " 'W': 1.87,\n",
       " 'Y': 1.69}"
      ]
     },
     "execution_count": 35,
     "metadata": {},
     "output_type": "execute_result"
    }
   ],
   "source": [
    "Et={'Ala': 1.9, 'Asp': 1.52, 'Cys': 2.04, 'Glu': 1.54, 'Phe': 1.86, 'Gly': 1.9, 'His': 1.76, 'Ile': 1.95, 'Lys': 1.37, 'Leu': 1.97, 'Met': 1.96, 'Asn': 1.56, 'Pro': 1.7, 'Gln': 1.52, 'Arg': 1.48, 'Ser': 1.75, 'Thr': 1.77, 'Val': 1.98, 'Trp': 1.87, 'Tyr': 1.69}\n",
    "Et = {three_to_one[key]: Et[key] for key in Et}\n",
    "Et"
   ]
  },
  {
   "cell_type": "code",
   "execution_count": 18,
   "metadata": {},
   "outputs": [
    {
     "data": {
      "text/plain": [
       "{'A': (8.47, 8.95),\n",
       " 'D': (5.97, 5.91),\n",
       " 'C': (1.39, 0.47),\n",
       " 'E': (6.32, 4.78),\n",
       " 'T': (5.79, 6.54),\n",
       " 'F': (3.91, 3.68),\n",
       " 'G': (7.82, 8.54),\n",
       " 'H': (2.26, 1.25),\n",
       " 'I': (5.71, 4.77),\n",
       " 'V': (7.02, 6.76),\n",
       " 'K': (5.76, 4.93),\n",
       " 'L': (8.48, 8.78),\n",
       " 'M': (2.21, 1.56),\n",
       " 'N': (4.54, 5.74),\n",
       " 'W': (1.44, 1.24),\n",
       " 'P': (4.63, 3.74),\n",
       " 'Q': (3.82, 4.75),\n",
       " 'R': (4.93, 5.24),\n",
       " 'S': (5.94, 8.05),\n",
       " 'Y': (3.58, 4.13)}"
      ]
     },
     "execution_count": 18,
     "metadata": {},
     "output_type": "execute_result"
    }
   ],
   "source": [
    "amino_acids"
   ]
  },
  {
   "cell_type": "code",
   "execution_count": null,
   "metadata": {},
   "outputs": [],
   "source": []
  }
 ],
 "metadata": {
  "kernelspec": {
   "display_name": "Python 3",
   "language": "python",
   "name": "python3"
  },
  "language_info": {
   "codemirror_mode": {
    "name": "ipython",
    "version": 3
   },
   "file_extension": ".py",
   "mimetype": "text/x-python",
   "name": "python",
   "nbconvert_exporter": "python",
   "pygments_lexer": "ipython3",
   "version": "3.10.11"
  }
 },
 "nbformat": 4,
 "nbformat_minor": 2
}
