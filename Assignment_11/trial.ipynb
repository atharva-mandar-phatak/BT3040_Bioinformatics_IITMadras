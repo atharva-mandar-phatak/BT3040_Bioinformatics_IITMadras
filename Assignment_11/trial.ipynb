{
 "cells": [
  {
   "cell_type": "code",
   "execution_count": 68,
   "metadata": {},
   "outputs": [
    {
     "name": "stdout",
     "output_type": "stream",
     "text": [
      "Shree\n"
     ]
    }
   ],
   "source": [
    "print(\"Shree\")"
   ]
  },
  {
   "cell_type": "code",
   "execution_count": 53,
   "metadata": {},
   "outputs": [],
   "source": [
    "seq1_prim=\"LGASGIAAFAFGSTAILIILFNMAAEVHFDPLQFFRQFFWLGLYPPKAQYGMGIPPLHDGGWWLMAGLFMTLSLGSWWIRVYSRARALGLGTHIAWNFAAAIFFVLCIGCIHPTLVGSWSEGVPFGIWPHIDWLTAFSIRYGNFYYCPWHGFSIGFAYGCGLLFAAHGATILAVARFGGDREIEQITDRGTAVERAALFW\"\n",
    "seq1_sec=\"XHHHHHHHHHHHHHHHHHHHHHHHHHXXXXXXXXXXXXXXXXXXXXXXXXXXXXXXXXXXHHHHHHHHHHHHHHHHHHHHHHHHHHHHHHXXHHHHHHHHHHHHHHHHHXXXXXXXXXXXXXXXXXXXXXXXXXXXXXXXXXXXXXXHHHHHHHHHHHHHHHHHHHHHHHHHHXXXXXXXXXXXXXXXXXXXXXXXXXXX\"\n"
   ]
  },
  {
   "cell_type": "code",
   "execution_count": 67,
   "metadata": {},
   "outputs": [
    {
     "name": "stdout",
     "output_type": "stream",
     "text": [
      "{'A': 1.5510204081632653,\n",
      " 'C': 1.0204081632653061,\n",
      " 'D': 0,\n",
      " 'E': 0.40816326530612246,\n",
      " 'F': 1.0204081632653061,\n",
      " 'G': 1.0612244897959184,\n",
      " 'H': 0.8746355685131195,\n",
      " 'I': 1.2004801920768309,\n",
      " 'K': 0,\n",
      " 'L': 1.2244897959183674,\n",
      " 'M': 1.530612244897959,\n",
      " 'N': 1.3605442176870748,\n",
      " 'P': 0.22675736961451246,\n",
      " 'Q': 0,\n",
      " 'R': 0.6802721088435374,\n",
      " 'S': 1.3605442176870748,\n",
      " 'T': 0.7653061224489796,\n",
      " 'V': 0.5830903790087464,\n",
      " 'W': 1.1131725417439702,\n",
      " 'Y': 0.5830903790087464}\n"
     ]
    }
   ],
   "source": [
    "#Q1|Assignment 11 | BT3040 | Atharva Mandar Phatak | BE21B009\n",
    "import numpy as np\n",
    "import pandas as pd\n",
    "import pprint as pprint\n",
    "\n",
    "amino_acids = [\n",
    "    \"A\",  # Alanine\n",
    "    \"R\",  # Arginine\n",
    "    \"N\",  # Asparagine\n",
    "    \"D\",  # Aspartic Acid\n",
    "    \"C\",  # Cysteine\n",
    "    \"Q\",  # Glutamine\n",
    "    \"E\",  # Glutamic Acid\n",
    "    \"G\",  # Glycine\n",
    "    \"H\",  # Histidine\n",
    "    \"I\",  # Isoleucine\n",
    "    \"L\",  # Leucine\n",
    "    \"K\",  # Lysine\n",
    "    \"M\",  # Methionine\n",
    "    \"F\",  # Phenylalanine\n",
    "    \"P\",  # Proline\n",
    "    \"S\",  # Serine\n",
    "    \"T\",  # Threonine\n",
    "    \"W\",  # Tryptophan\n",
    "    \"Y\",  # Tyrosine\n",
    "    \"V\"   # Valine\n",
    "]\n",
    "\n",
    "prop_dict = {\n",
    "    \"A\": 0,  # Alanine\n",
    "    \"R\": 0,  # Arginine\n",
    "    \"N\": 0,  # Asparagine\n",
    "    \"D\": 0,  # Aspartic Acid\n",
    "    \"C\": 0,  # Cysteine\n",
    "    \"Q\": 0,  # Glutamine\n",
    "    \"E\": 0,  # Glutamic Acid\n",
    "    \"G\": 0,  # Glycine\n",
    "    \"H\": 0,  # Histidine\n",
    "    \"I\": 0,  # Isoleucine\n",
    "    \"L\": 0,  # Leucine\n",
    "    \"K\": 0,  # Lysine\n",
    "    \"M\": 0,  # Methionine\n",
    "    \"F\": 0,  # Phenylalanine\n",
    "    \"P\": 0,  # Proline\n",
    "    \"S\": 0,  # Serine\n",
    "    \"T\": 0,  # Threonine\n",
    "    \"W\": 0,  # Tryptophan\n",
    "    \"Y\": 0,  # Tyrosine\n",
    "    \"V\": 0   # Valine\n",
    "}\n",
    "\n",
    "\n",
    "def calculate_propensity(residues, structure):\n",
    "    # Create a DataFrame to store residue counts\n",
    "    df = pd.DataFrame({'Residue': list(residues), 'Structure': list(structure)})\n",
    "\n",
    "#N\n",
    "    N = len(df['Residue'])\n",
    "    \n",
    "   \n",
    "\n",
    "  \n",
    "    alpha_conformation_df = df[df['Structure'] == 'H']\n",
    "    \n",
    "#N_alpha\n",
    "    n_alpha= len(alpha_conformation_df['Residue'])\n",
    "    \n",
    " \n",
    "#n_alpha_i\n",
    "    n_alpha_i =alpha_conformation_df['Residue'].value_counts()\n",
    "\n",
    "#N_alpha_i\n",
    "    N_alpha_i =df['Residue'].value_counts()\n",
    "\n",
    "    for i in amino_acids:\n",
    "        if(i in n_alpha_i):\n",
    "            percent_residue=n_alpha_i[i]/N_alpha_i[i]\n",
    "            percent_all = n_alpha/N\n",
    "\n",
    "            prop_of_i = percent_residue/percent_all\n",
    "\n",
    "            prop_dict[i]=prop_of_i\n",
    "        else: continue\n",
    "\n",
    "         \n",
    "\n",
    "\n",
    "propensities = calculate_propensity(seq1_prim, seq1_sec)\n",
    "\n",
    "sorted_prop_dict = {k: v for k, v in sorted(prop_dict.items())}\n",
    "\n",
    "pprint.pprint(sorted_prop_dict)"
   ]
  },
  {
   "cell_type": "code",
   "execution_count": null,
   "metadata": {},
   "outputs": [],
   "source": []
  }
 ],
 "metadata": {
  "kernelspec": {
   "display_name": "Python 3",
   "language": "python",
   "name": "python3"
  },
  "language_info": {
   "codemirror_mode": {
    "name": "ipython",
    "version": 3
   },
   "file_extension": ".py",
   "mimetype": "text/x-python",
   "name": "python",
   "nbconvert_exporter": "python",
   "pygments_lexer": "ipython3",
   "version": "3.10.11"
  }
 },
 "nbformat": 4,
 "nbformat_minor": 2
}
