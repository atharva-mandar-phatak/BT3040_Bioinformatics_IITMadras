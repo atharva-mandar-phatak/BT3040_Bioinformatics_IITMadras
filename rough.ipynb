{
 "cells": [
  {
   "cell_type": "code",
   "execution_count": null,
   "id": "initial_id",
   "metadata": {
    "ExecuteTime": {
     "end_time": "2024-02-12T19:25:03.101724400Z",
     "start_time": "2024-02-12T19:25:03.059187Z"
    },
    "collapsed": true
   },
   "outputs": [
    {
     "name": "stdout",
     "output_type": "stream",
     "text": [
      "Shree\n",
      "1\n",
      "Athar   va\n"
     ]
    }
   ],
   "source": [
    "print(\"Shree\")\n",
    "print(3//2)\n",
    "a=\"Athar   va\"\n",
    "print(a.rstrip())\n"
   ]
  },
  {
   "cell_type": "code",
   "execution_count": 2,
   "id": "ddfade1295b695ac",
   "metadata": {
    "ExecuteTime": {
     "end_time": "2024-02-12T19:27:53.858775600Z",
     "start_time": "2024-02-12T19:27:51.657093400Z"
    },
    "collapsed": false
   },
   "outputs": [
    {
     "name": "stdout",
     "output_type": "stream",
     "text": [
      "DIVNSKKVHAMRKEQKRKQGKQRSMGSPMDYSPLPIDKHEPEFGPCRRKLDG\n"
     ]
    }
   ],
   "source": [
    "#Atharva Mandar Phatak | BE21B009 | BT30340 Assignment 1 |  \n",
    "#Q5 \n",
    "\n",
    "\n",
    "#Codon table in the form of dictonary \n",
    "codon_to_aa = {\n",
    "    \"TTT\": \"F\", \"TTC\": \"F\", \"TTA\": \"L\", \"TTG\": \"L\",\n",
    "    \"CTT\": \"L\", \"CTC\": \"L\", \"CTA\": \"L\", \"CTG\": \"L\",\n",
    "    \"ATT\": \"I\", \"ATC\": \"I\", \"ATA\": \"I\", \"ATG\": \"M\",\n",
    "    \"GTT\": \"V\", \"GTC\": \"V\", \"GTA\": \"V\", \"GTG\": \"V\",\n",
    "    \"TCT\": \"S\", \"TCC\": \"S\", \"TCA\": \"S\", \"TCG\": \"S\",\n",
    "    \"CCT\": \"P\", \"CCC\": \"P\", \"CCA\": \"P\", \"CCG\": \"P\",\n",
    "    \"ACT\": \"T\", \"ACC\": \"T\", \"ACA\": \"T\", \"ACG\": \"T\",\n",
    "    \"GCT\": \"A\", \"GCC\": \"A\", \"GCA\": \"A\", \"GCG\": \"A\",\n",
    "    \"TAT\": \"Y\", \"TAC\": \"Y\", \"TAA\": \"*\", \"TAG\": \"*\",\n",
    "    \"CAT\": \"H\", \"CAC\": \"H\", \"CAA\": \"Q\", \"CAG\": \"Q\",\n",
    "    \"AAT\": \"N\", \"AAC\": \"N\", \"AAA\": \"K\", \"AAG\": \"K\",\n",
    "    \"GAT\": \"D\", \"GAC\": \"D\", \"GAA\": \"E\", \"GAG\": \"E\",\n",
    "    \"TGT\": \"C\", \"TGC\": \"C\", \"TGA\": \"*\", \"TGG\": \"W\",\n",
    "    \"CGT\": \"R\", \"CGC\": \"R\", \"CGA\": \"R\", \"CGG\": \"R\",\n",
    "    \"AGT\": \"S\", \"AGC\": \"S\", \"AGA\": \"R\", \"AGG\": \"R\",\n",
    "    \"GGT\": \"G\", \"GGC\": \"G\", \"GGA\": \"G\", \"GGG\": \"G\"\n",
    "} \n",
    "#Fromatting the input \n",
    "inputed_sequence=input().upper()\n",
    "inputed_sequence=inputed_sequence.replace(\" \",\"\")\n",
    "codons=[inputed_sequence[i:i+3] for i in range(0, len(inputed_sequence), 3)]\n",
    "final_peptide=\"\"\n",
    "\n",
    "for i in range(len(codons)):\n",
    "    codon_inputed=codons[i]\n",
    "    if (len(codon_inputed)<4):\n",
    "        final_peptide=final_peptide+codon_to_aa[codon_inputed]\n",
    "    else:break\n",
    "print(final_peptide)"
   ]
  },
  {
   "cell_type": "code",
   "execution_count": 12,
   "id": "bf65b6ed",
   "metadata": {},
   "outputs": [
    {
     "name": "stdout",
     "output_type": "stream",
     "text": [
      "Complementary Sequence: GAGCCTAAACATTTCTAGTACTAGAGTATGTATCATGGATCGGTAAC\n",
      "Complementary Sequence (Reversed): CAATGGCTAGGTACTATGTATGAGATCATGATCTTTACAAATCCGAG\n"
     ]
    }
   ],
   "source": [
    "#Atharva Mandar Phatak | BE21B009 | BT30340 Assignment 1 |  \n",
    "#Q3\n",
    "\n",
    "bp_dict={'A':'T', 'C':'G', 'G':'C' , 'T':'A'}\n",
    "original_sequence=list(input().upper())\n",
    "count=0\n",
    "for i in original_sequence:\n",
    "    original_sequence[count]=bp_dict[f'{i}']\n",
    "    count=count+1\n",
    "final_sequence=''.join(map(str, original_sequence))\n",
    "final_sequence_reversed=final_sequence[::-1]\n",
    "print(f\"Complementary Sequence: {final_sequence}\")\n",
    "print(f\"Complementary Sequence (Reversed): {final_sequence_reversed}\") #Prints the reversed sequence \n",
    "\n",
    "\n",
    "\n",
    "\n",
    "\n",
    "\n",
    "\n"
   ]
  },
  {
   "cell_type": "code",
   "execution_count": 3,
   "id": "604e97f2fb379fa0",
   "metadata": {
    "ExecuteTime": {
     "end_time": "2024-02-12T19:39:26.038669900Z",
     "start_time": "2024-02-12T19:39:23.149654Z"
    },
    "collapsed": false
   },
   "outputs": [
    {
     "name": "stdout",
     "output_type": "stream",
     "text": [
      "-6.283\n"
     ]
    }
   ],
   "source": [
    "#Atharva Mandar Phatak | BE21B009 | BT30340 Assignment 1 |  \n",
    "#Q8\n",
    "\n",
    "#Creating a dicotnary to store the given values \n",
    "energy_levels = {\n",
    "    'AA': -4, 'AT': -7, 'AC': -5, 'AG': -11,\n",
    "    'TA': -7, 'TT': -2, 'TC': -3, 'TG': -4,\n",
    "    'CA': -9, 'CT': -5, 'CC': -6, 'CG': -7,\n",
    "    'GA': -9, 'GT': -6, 'GC': -4, 'GG': -11}\n",
    "\n",
    "inputed_base_stacking= input()\n",
    "stacks=[inputed_base_stacking[i:i+2] for i in range(0, len(inputed_base_stacking)-1,1)]\n",
    "stacking_energy=0\n",
    "for i in stacks:\n",
    "    stacking_energy=stacking_energy+energy_levels[i]\n",
    "avg_stacking_energy=(stacking_energy/len(stacks))\n",
    "avg_stacking_energy=round(avg_stacking_energy,3)\n",
    "print(avg_stacking_energy)"
   ]
  },
  {
   "cell_type": "code",
   "execution_count": 48,
   "id": "76c2520e5bf9990c",
   "metadata": {
    "ExecuteTime": {
     "end_time": "2024-02-12T19:47:05.647115300Z",
     "start_time": "2024-02-12T19:45:49.599433800Z"
    },
    "collapsed": false
   },
   "outputs": [
    {
     "name": "stdout",
     "output_type": "stream",
     "text": [
      "AAG: 7\n",
      "GTC: 1\n",
      "GAG: 3\n",
      "ACTA: 1\n",
      "ATAT: 0\n"
     ]
    }
   ],
   "source": [
    "main_peptide=input()\n",
    "n= int(input(\"No of sequences to be searched in main sequence\"))\n",
    "for i in range(n):\n",
    "    sub_sequence=input()\n",
    "    print(f\"{sub_sequence}: {main_peptide.count(sub_sequence)}\")"
   ]
  },
  {
   "cell_type": "code",
   "execution_count": 5,
   "id": "587d1c12ae8d2579",
   "metadata": {
    "ExecuteTime": {
     "end_time": "2024-02-12T20:28:46.978184400Z",
     "start_time": "2024-02-12T20:28:44.048505300Z"
    },
    "collapsed": false
   },
   "outputs": [
    {
     "name": "stdout",
     "output_type": "stream",
     "text": [
      "Enter the string: ACTA\n",
      "Total match: 1\n",
      "Position of match : 88\n"
     ]
    }
   ],
   "source": [
    "#Atharva Mandar Phatak | BE21B009 | BT30340 Assignment 1 |  \n",
    "#Q6\n",
    "main_peptide=input(\"Enter the main sequence:\")\n",
    "main_peptide=inputed_sequence.replace(\" \",\"\")\n",
    "seq_to_be_searched=input(\"Enter the sequence to be searched:\")\n",
    "seq_to_be_searched=seq_to_be_searched.replace(\" \",\"\")\n",
    "print(f\"Enter the string: {seq_to_be_searched}\")\n",
    "\n",
    "splitted_list=[main_peptide[i:i+len(seq_to_be_searched)] for i in range(0,len(main_peptide)-len(seq_to_be_searched))]\n",
    "\n",
    "index_list=[]\n",
    "for i in splitted_list:\n",
    "    if i == seq_to_be_searched:\n",
    "        index_list.append(splitted_list.index(i))\n",
    "        splitted_list[splitted_list.index(i)]=\"#\"\n",
    "\n",
    "index_string=' '.join(map(str,index_list))\n",
    "print(f\"Total match: {len(index_list)}\")\n",
    "print(f\"Position of match : {index_string}\")\n",
    "    "
   ]
  },
  {
   "cell_type": "code",
   "execution_count": 68,
   "id": "1528a715a5ac14ae",
   "metadata": {
    "ExecuteTime": {
     "end_time": "2024-02-12T20:28:12.164844900Z",
     "start_time": "2024-02-12T20:28:12.148165400Z"
    },
    "collapsed": false
   },
   "outputs": [],
   "source": []
  },
  {
   "cell_type": "code",
   "execution_count": 64,
   "id": "eeb21efc5b294dd2",
   "metadata": {
    "ExecuteTime": {
     "end_time": "2024-02-12T20:22:44.435686900Z",
     "start_time": "2024-02-12T20:22:44.351376700Z"
    },
    "collapsed": false
   },
   "outputs": [
    {
     "data": {
      "text/plain": [
       "'4 1'"
      ]
     },
     "execution_count": 64,
     "metadata": {},
     "output_type": "execute_result"
    }
   ],
   "source": [
    "samp2"
   ]
  },
  {
   "cell_type": "code",
   "execution_count": null,
   "id": "74dc8b357c8a444b",
   "metadata": {
    "collapsed": false
   },
   "outputs": [],
   "source": []
  }
 ],
 "metadata": {
  "kernelspec": {
   "display_name": "Python 3",
   "language": "python",
   "name": "python3"
  },
  "language_info": {
   "codemirror_mode": {
    "name": "ipython",
    "version": 3
   },
   "file_extension": ".py",
   "mimetype": "text/x-python",
   "name": "python",
   "nbconvert_exporter": "python",
   "pygments_lexer": "ipython3",
   "version": "3.10.11"
  }
 },
 "nbformat": 4,
 "nbformat_minor": 5
}
